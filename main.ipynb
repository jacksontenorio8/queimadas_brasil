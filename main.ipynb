{
 "cells": [
  {
   "cell_type": "code",
   "execution_count": 1,
   "metadata": {},
   "outputs": [],
   "source": [
    "import pandas as pd"
   ]
  },
  {
   "cell_type": "code",
   "execution_count": 2,
   "metadata": {},
   "outputs": [
    {
     "data": {
      "text/plain": [
       "<module 'pandas' from '/home/jackson/anaconda3/lib/python3.8/site-packages/pandas/__init__.py'>"
      ]
     },
     "execution_count": 2,
     "metadata": {},
     "output_type": "execute_result"
    }
   ],
   "source": [
    "pd"
   ]
  },
  {
   "cell_type": "code",
   "execution_count": 9,
   "metadata": {},
   "outputs": [],
   "source": [
    "df_cvs = pd.read_csv(\"/home/jackson/Workspace/queimadas_brasil/all_dashboard-fires-month-14-04-2022-17 04 55.csv\",sep=\";\")"
   ]
  },
  {
   "cell_type": "code",
   "execution_count": 10,
   "metadata": {},
   "outputs": [
    {
     "data": {
      "text/html": [
       "<div>\n",
       "<style scoped>\n",
       "    .dataframe tbody tr th:only-of-type {\n",
       "        vertical-align: middle;\n",
       "    }\n",
       "\n",
       "    .dataframe tbody tr th {\n",
       "        vertical-align: top;\n",
       "    }\n",
       "\n",
       "    .dataframe thead th {\n",
       "        text-align: right;\n",
       "    }\n",
       "</style>\n",
       "<table border=\"1\" class=\"dataframe\">\n",
       "  <thead>\n",
       "    <tr style=\"text-align: right;\">\n",
       "      <th></th>\n",
       "      <th>date</th>\n",
       "      <th>class</th>\n",
       "      <th>focuses</th>\n",
       "      <th>uf</th>\n",
       "    </tr>\n",
       "  </thead>\n",
       "  <tbody>\n",
       "    <tr>\n",
       "      <th>0</th>\n",
       "      <td>2022/01</td>\n",
       "      <td>Desmatamento Consolidado</td>\n",
       "      <td>5</td>\n",
       "      <td>ACRE</td>\n",
       "    </tr>\n",
       "    <tr>\n",
       "      <th>1</th>\n",
       "      <td>2022/01</td>\n",
       "      <td>Desmatamento Consolidado</td>\n",
       "      <td>1</td>\n",
       "      <td>AMAPÁ</td>\n",
       "    </tr>\n",
       "    <tr>\n",
       "      <th>2</th>\n",
       "      <td>2022/01</td>\n",
       "      <td>Desmatamento Consolidado</td>\n",
       "      <td>48</td>\n",
       "      <td>AMAZONAS</td>\n",
       "    </tr>\n",
       "    <tr>\n",
       "      <th>3</th>\n",
       "      <td>2022/01</td>\n",
       "      <td>Desmatamento Consolidado</td>\n",
       "      <td>27</td>\n",
       "      <td>MARANHÃO</td>\n",
       "    </tr>\n",
       "    <tr>\n",
       "      <th>4</th>\n",
       "      <td>2022/01</td>\n",
       "      <td>Desmatamento Consolidado</td>\n",
       "      <td>236</td>\n",
       "      <td>MATO GROSSO</td>\n",
       "    </tr>\n",
       "  </tbody>\n",
       "</table>\n",
       "</div>"
      ],
      "text/plain": [
       "      date                     class  focuses           uf\n",
       "0  2022/01  Desmatamento Consolidado        5         ACRE\n",
       "1  2022/01  Desmatamento Consolidado        1        AMAPÁ\n",
       "2  2022/01  Desmatamento Consolidado       48     AMAZONAS\n",
       "3  2022/01  Desmatamento Consolidado       27     MARANHÃO\n",
       "4  2022/01  Desmatamento Consolidado      236  MATO GROSSO"
      ]
     },
     "execution_count": 10,
     "metadata": {},
     "output_type": "execute_result"
    }
   ],
   "source": [
    "df_cvs.head()"
   ]
  }
 ],
 "metadata": {
  "interpreter": {
   "hash": "5b54ec411289af8bc53476f928aaaa5206d6f6cabf302eb597da71e4d9472fb3"
  },
  "kernelspec": {
   "display_name": "Python 3.8.8 ('base')",
   "language": "python",
   "name": "python3"
  },
  "language_info": {
   "codemirror_mode": {
    "name": "ipython",
    "version": 3
   },
   "file_extension": ".py",
   "mimetype": "text/x-python",
   "name": "python",
   "nbconvert_exporter": "python",
   "pygments_lexer": "ipython3",
   "version": "3.8.8"
  },
  "orig_nbformat": 4
 },
 "nbformat": 4,
 "nbformat_minor": 2
}
